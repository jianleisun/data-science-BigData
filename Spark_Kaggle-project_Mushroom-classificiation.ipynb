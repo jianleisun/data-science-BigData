{
 "cells": [
  {
   "cell_type": "code",
   "execution_count": 179,
   "metadata": {
    "collapsed": true
   },
   "outputs": [],
   "source": [
    "# Kaggle Project: https://www.kaggle.com/uciml/mushroom-classification\n",
    "# Spark + Python\n",
    "\n",
    "# Name: Jianlei (John) Sun\n"
   ]
  },
  {
   "cell_type": "markdown",
   "metadata": {},
   "source": [
    "# Data Exploration"
   ]
  },
  {
   "cell_type": "code",
   "execution_count": 1,
   "metadata": {
    "collapsed": true
   },
   "outputs": [],
   "source": [
    "import pandas as pd"
   ]
  },
  {
   "cell_type": "code",
   "execution_count": 136,
   "metadata": {
    "collapsed": true
   },
   "outputs": [],
   "source": [
    "df_pd = pd.read_csv('./mushrooms.csv')\n",
    "df_sp = spark.createDataFrame(df_pd)"
   ]
  },
  {
   "cell_type": "code",
   "execution_count": 137,
   "metadata": {
    "collapsed": false
   },
   "outputs": [
    {
     "data": {
      "text/plain": [
       "[Row(class='p', cap-shape='x', cap-surface='s', cap-color='n', bruises='t', odor='p', gill-attachment='f', gill-spacing='c', gill-size='n', gill-color='k', stalk-shape='e', stalk-root='e', stalk-surface-above-ring='s', stalk-surface-below-ring='s', stalk-color-above-ring='w', stalk-color-below-ring='w', veil-type='p', veil-color='w', ring-number='o', ring-type='p', spore-print-color='k', population='s', habitat='u')]"
      ]
     },
     "execution_count": 137,
     "metadata": {},
     "output_type": "execute_result"
    }
   ],
   "source": [
    "df_sp.take(1)"
   ]
  },
  {
   "cell_type": "markdown",
   "metadata": {},
   "source": [
    "# Feature Extraction"
   ]
  },
  {
   "cell_type": "code",
   "execution_count": 168,
   "metadata": {
    "collapsed": true
   },
   "outputs": [],
   "source": [
    "from pyspark.ml.feature import StringIndexer, OneHotEncoder, VectorAssembler"
   ]
  },
  {
   "cell_type": "code",
   "execution_count": 140,
   "metadata": {
    "collapsed": false
   },
   "outputs": [],
   "source": [
    "# Encode the output variable\n",
    "stringIndexer = StringIndexer(inputCol=\"class\", outputCol=\"label\")\n",
    "df_sp = stringIndexer.fit(df_sp).transform(df_sp)"
   ]
  },
  {
   "cell_type": "code",
   "execution_count": 141,
   "metadata": {
    "collapsed": false,
    "scrolled": true
   },
   "outputs": [
    {
     "name": "stdout",
     "output_type": "stream",
     "text": [
      "+-----+\n",
      "|label|\n",
      "+-----+\n",
      "|  1.0|\n",
      "|  0.0|\n",
      "|  0.0|\n",
      "+-----+\n",
      "only showing top 3 rows\n",
      "\n"
     ]
    }
   ],
   "source": [
    "df_sp.select('label').show(3) # "
   ]
  },
  {
   "cell_type": "code",
   "execution_count": 142,
   "metadata": {
    "collapsed": false
   },
   "outputs": [],
   "source": [
    "# drop \"veil-type\"，only one unique value\n",
    "df_sp = df_sp.drop('veil-type');"
   ]
  },
  {
   "cell_type": "code",
   "execution_count": null,
   "metadata": {
    "collapsed": true
   },
   "outputs": [],
   "source": [
    "# one-hot-encode the feature variables"
   ]
  },
  {
   "cell_type": "code",
   "execution_count": 143,
   "metadata": {
    "collapsed": true
   },
   "outputs": [],
   "source": [
    "cols = [i for i in df_sp.columns if i != 'label' and i != 'class']"
   ]
  },
  {
   "cell_type": "code",
   "execution_count": 144,
   "metadata": {
    "collapsed": false
   },
   "outputs": [],
   "source": [
    "for i in cols:\n",
    "    stringIndexer = StringIndexer(inputCol=i, outputCol=(str(i)+'_SI'))\n",
    "    df_sp = stringIndexer.fit(df_sp).transform(df_sp)\n",
    "    \n",
    "    df_sp = OneHotEncoder(inputCol=(str(i)+'_SI'), outputCol=(str(i)+'_SI'+'_OHE')).transform(df_sp)"
   ]
  },
  {
   "cell_type": "code",
   "execution_count": 156,
   "metadata": {
    "collapsed": false
   },
   "outputs": [],
   "source": [
    "cols_new = [i for i in df_sp.columns if i != 'label' and i[-3:] == 'OHE']"
   ]
  },
  {
   "cell_type": "code",
   "execution_count": 166,
   "metadata": {
    "collapsed": false,
    "scrolled": false
   },
   "outputs": [
    {
     "data": {
      "text/plain": [
       "['cap-shape_SI_OHE',\n",
       " 'cap-surface_SI_OHE',\n",
       " 'cap-color_SI_OHE',\n",
       " 'bruises_SI_OHE',\n",
       " 'odor_SI_OHE',\n",
       " 'gill-attachment_SI_OHE',\n",
       " 'gill-spacing_SI_OHE',\n",
       " 'gill-size_SI_OHE',\n",
       " 'gill-color_SI_OHE',\n",
       " 'stalk-shape_SI_OHE',\n",
       " 'stalk-root_SI_OHE',\n",
       " 'stalk-surface-above-ring_SI_OHE',\n",
       " 'stalk-surface-below-ring_SI_OHE',\n",
       " 'stalk-color-above-ring_SI_OHE',\n",
       " 'stalk-color-below-ring_SI_OHE',\n",
       " 'veil-color_SI_OHE',\n",
       " 'ring-number_SI_OHE',\n",
       " 'ring-type_SI_OHE',\n",
       " 'spore-print-color_SI_OHE',\n",
       " 'population_SI_OHE',\n",
       " 'habitat_SI_OHE']"
      ]
     },
     "execution_count": 166,
     "metadata": {},
     "output_type": "execute_result"
    }
   ],
   "source": [
    "cols_new"
   ]
  },
  {
   "cell_type": "code",
   "execution_count": 169,
   "metadata": {
    "collapsed": false,
    "scrolled": true
   },
   "outputs": [
    {
     "name": "stdout",
     "output_type": "stream",
     "text": [
      "+--------------------+-----+\n",
      "|            features|label|\n",
      "+--------------------+-----+\n",
      "|(95,[0,6,8,24,26,...|  1.0|\n",
      "|(95,[0,6,11,22,26...|  0.0|\n",
      "|(95,[3,6,12,23,26...|  0.0|\n",
      "|(95,[0,5,12,24,26...|  1.0|\n",
      "|(95,[0,6,9,17,18,...|  0.0|\n",
      "+--------------------+-----+\n",
      "only showing top 5 rows\n",
      "\n"
     ]
    }
   ],
   "source": [
    "vecAssembler = VectorAssembler(inputCols = cols_new, outputCol = \"features\")\n",
    "df_sp = vecAssembler.transform(df_sp)\n",
    "df_sp.select('features','label').show(5)"
   ]
  },
  {
   "cell_type": "markdown",
   "metadata": {},
   "source": [
    "# Model"
   ]
  },
  {
   "cell_type": "code",
   "execution_count": 180,
   "metadata": {
    "collapsed": true
   },
   "outputs": [],
   "source": [
    "from pyspark.ml.classification import DecisionTreeClassifier\n",
    "from pyspark.ml.evaluation import MulticlassClassificationEvaluator"
   ]
  },
  {
   "cell_type": "code",
   "execution_count": 181,
   "metadata": {
    "collapsed": false
   },
   "outputs": [],
   "source": [
    "# split into training set and testing set\n",
    "df_train, df_test = df_sp.randomSplit([.8, .2])"
   ]
  },
  {
   "cell_type": "code",
   "execution_count": 182,
   "metadata": {
    "collapsed": true
   },
   "outputs": [],
   "source": [
    "# decision tree model\n",
    "dt = DecisionTreeClassifier(featuresCol=\"features\", labelCol=\"label\")\n",
    "model = dt.fit(df_train)"
   ]
  },
  {
   "cell_type": "code",
   "execution_count": 183,
   "metadata": {
    "collapsed": false
   },
   "outputs": [
    {
     "name": "stdout",
     "output_type": "stream",
     "text": [
      "+--------------------+-----+-------------+-----------+----------+\n",
      "|            features|label|rawPrediction|probability|prediction|\n",
      "+--------------------+-----+-------------+-----------+----------+\n",
      "|(95,[3,6,12,22,26...|  0.0|  [413.0,0.0]|  [1.0,0.0]|       0.0|\n",
      "|(95,[3,6,12,22,26...|  0.0|  [413.0,0.0]|  [1.0,0.0]|       0.0|\n",
      "|(95,[3,6,12,22,26...|  0.0|  [413.0,0.0]|  [1.0,0.0]|       0.0|\n",
      "+--------------------+-----+-------------+-----------+----------+\n",
      "only showing top 3 rows\n",
      "\n"
     ]
    }
   ],
   "source": [
    "# predict\n",
    "df_predicted = model.transform(df_test.select('features','label'))\n",
    "df_predicted.show(3)"
   ]
  },
  {
   "cell_type": "code",
   "execution_count": 184,
   "metadata": {
    "collapsed": false
   },
   "outputs": [
    {
     "data": {
      "text/plain": [
       "0.9993788683121182"
      ]
     },
     "execution_count": 184,
     "metadata": {},
     "output_type": "execute_result"
    }
   ],
   "source": [
    "# measure performance\n",
    "evaluator = MulticlassClassificationEvaluator()\n",
    "evaluator.evaluate(df_predicted)"
   ]
  },
  {
   "cell_type": "code",
   "execution_count": null,
   "metadata": {
    "collapsed": true
   },
   "outputs": [],
   "source": []
  }
 ],
 "metadata": {
  "anaconda-cloud": {},
  "kernelspec": {
   "display_name": "Python [conda root]",
   "language": "python",
   "name": "conda-root-py"
  },
  "language_info": {
   "codemirror_mode": {
    "name": "ipython",
    "version": 3
   },
   "file_extension": ".py",
   "mimetype": "text/x-python",
   "name": "python",
   "nbconvert_exporter": "python",
   "pygments_lexer": "ipython3",
   "version": "3.5.2"
  }
 },
 "nbformat": 4,
 "nbformat_minor": 1
}
